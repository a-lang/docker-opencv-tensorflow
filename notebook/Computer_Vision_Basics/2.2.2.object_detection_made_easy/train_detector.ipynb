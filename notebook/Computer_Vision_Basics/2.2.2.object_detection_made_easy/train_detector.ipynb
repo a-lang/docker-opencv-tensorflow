{
 "cells": [
  {
   "cell_type": "markdown",
   "metadata": {},
   "source": [
    "# Training your own object detector"
   ]
  },
  {
   "cell_type": "code",
   "execution_count": 2,
   "metadata": {},
   "outputs": [],
   "source": [
    "# import the necessary packages\n",
    "from __future__ import print_function\n",
    "from imutils import paths\n",
    "from scipy.io import loadmat\n",
    "from skimage import io\n",
    "import dlib\n",
    "import sys\n",
    "\n",
    "# 資料視覺化模組\n",
    "import matplotlib.pyplot as plt\n",
    "import matplotlib.cm as cm\n",
    "\n",
    "# 不要顯示惱人的 warning 訊息\n",
    "import warnings\n",
    "warnings.filterwarnings('ignore')\n",
    "\n",
    "# 在 Notebook 裡可即時繪圖\n",
    "%matplotlib inline  \n",
    "\n",
    "plt.rcParams['figure.figsize'] = [20, 10]\n",
    "plt.rcParams.update({'font.size':13})"
   ]
  },
  {
   "cell_type": "code",
   "execution_count": 3,
   "metadata": {},
   "outputs": [],
   "source": [
    "# handle Python 3 compatibility\n",
    "if sys.version_info > (3,):\n",
    "    long = int"
   ]
  },
  {
   "cell_type": "markdown",
   "metadata": {},
   "source": [
    "## Now, let’s gather the images and bounding boxes to train our classifier:"
   ]
  },
  {
   "cell_type": "code",
   "execution_count": 8,
   "metadata": {},
   "outputs": [
    {
     "name": "stdout",
     "output_type": "stream",
     "text": [
      "[INFO] gathering images and bounding boxes...\n"
     ]
    }
   ],
   "source": [
    "print(\"[INFO] gathering images and bounding boxes...\")\n",
    "options = dlib.simple_object_detector_training_options()\n",
    "images = []\n",
    "boxes = []\n",
    "\n",
    "# loop over the image paths\n",
    "for imagePath in paths.list_images(\"./stop_sign_images\"):\n",
    "    # extract the image ID from the image path and load the annotations file\n",
    "    imageID = imagePath[imagePath.rfind(\"/\") + 1:].split(\"_\")[1]\n",
    "    imageID = imageID.replace(\".jpg\", \"\")\n",
    "    p = \"{}/annotation_{}.mat\".format(\"./stop_sign_annotations\", imageID)\n",
    "    annotations = loadmat(p)[\"box_coord\"]\n",
    "\n",
    "    # loop over the annotations and add each annotation to the list of bounding\n",
    "    # boxes\n",
    "    bb = [dlib.rectangle(left=long(x), top=long(y), right=long(w), bottom=long(h))\n",
    "            for (y, h, x, w) in annotations]\n",
    "    boxes.append(bb)\n",
    "\n",
    "    # add the image to the list of images\n",
    "    images.append(io.imread(imagePath))"
   ]
  },
  {
   "cell_type": "markdown",
   "metadata": {},
   "source": [
    "## Train the object detector"
   ]
  },
  {
   "cell_type": "code",
   "execution_count": 9,
   "metadata": {},
   "outputs": [
    {
     "name": "stdout",
     "output_type": "stream",
     "text": [
      "[INFO] training detector...\n"
     ]
    }
   ],
   "source": [
    "print(\"[INFO] training detector...\")\n",
    "detector = dlib.train_simple_object_detector(images, boxes, options)"
   ]
  },
  {
   "cell_type": "markdown",
   "metadata": {},
   "source": [
    "## Dump the classifier to file"
   ]
  },
  {
   "cell_type": "code",
   "execution_count": 10,
   "metadata": {},
   "outputs": [
    {
     "name": "stdout",
     "output_type": "stream",
     "text": [
      "[INFO] dumping classifier to file...\n"
     ]
    }
   ],
   "source": [
    "print(\"[INFO] dumping classifier to file...\")\n",
    "detector.save(\"./output/stop_sign_detector.svm\")"
   ]
  },
  {
   "cell_type": "markdown",
   "metadata": {},
   "source": [
    "# Quiz"
   ]
  },
  {
   "cell_type": "code",
   "execution_count": 4,
   "metadata": {},
   "outputs": [
    {
     "name": "stdout",
     "output_type": "stream",
     "text": [
      "[INFO] gathering images and bounding boxes...\n"
     ]
    }
   ],
   "source": [
    "print(\"[INFO] gathering images and bounding boxes...\")\n",
    "options = dlib.simple_object_detector_training_options()\n",
    "images = []\n",
    "boxes = []\n",
    "\n",
    "# loop over the image paths\n",
    "for imagePath in paths.list_images(\"./sunflower_images\"):\n",
    "    # extract the image ID from the image path and load the annotations file\n",
    "    imageID = imagePath[imagePath.rfind(\"/\") + 1:].split(\"_\")[1]\n",
    "    imageID = imageID.replace(\".jpg\", \"\")\n",
    "    p = \"{}/annotation_{}.mat\".format(\"./sunflower_annotations\", imageID)\n",
    "    annotations = loadmat(p)[\"box_coord\"]\n",
    "\n",
    "    # loop over the annotations and add each annotation to the list of bounding\n",
    "    # boxes\n",
    "    bb = [dlib.rectangle(left=long(x), top=long(y), right=long(w), bottom=long(h))\n",
    "            for (y, h, x, w) in annotations]\n",
    "    boxes.append(bb)\n",
    "\n",
    "    # add the image to the list of images\n",
    "    images.append(io.imread(imagePath))"
   ]
  },
  {
   "cell_type": "code",
   "execution_count": 5,
   "metadata": {},
   "outputs": [
    {
     "name": "stdout",
     "output_type": "stream",
     "text": [
      "[INFO] training detector...\n",
      "[INFO] dumping classifier to file...\n"
     ]
    }
   ],
   "source": [
    "print(\"[INFO] training detector...\")\n",
    "detector = dlib.train_simple_object_detector(images, boxes, options)\n",
    "\n",
    "print(\"[INFO] dumping classifier to file...\")\n",
    "detector.save(\"./output/sunflower_detector.svm\")"
   ]
  },
  {
   "cell_type": "code",
   "execution_count": null,
   "metadata": {},
   "outputs": [],
   "source": []
  }
 ],
 "metadata": {
  "kernelspec": {
   "display_name": "Python 3",
   "language": "python",
   "name": "python3"
  },
  "language_info": {
   "codemirror_mode": {
    "name": "ipython",
    "version": 3
   },
   "file_extension": ".py",
   "mimetype": "text/x-python",
   "name": "python",
   "nbconvert_exporter": "python",
   "pygments_lexer": "ipython3",
   "version": "3.6.6"
  }
 },
 "nbformat": 4,
 "nbformat_minor": 2
}
