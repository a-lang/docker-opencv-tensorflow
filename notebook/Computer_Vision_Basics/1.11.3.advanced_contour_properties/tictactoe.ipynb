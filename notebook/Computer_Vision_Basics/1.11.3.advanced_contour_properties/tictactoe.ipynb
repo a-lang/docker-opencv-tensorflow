{
 "cells": [
  {
   "cell_type": "markdown",
   "metadata": {},
   "source": [
    "# Advanced Contour Properties\n",
    "## 區別手寫 O，X"
   ]
  },
  {
   "cell_type": "code",
   "execution_count": 1,
   "metadata": {},
   "outputs": [],
   "source": [
    "import numpy as np\n",
    "import imutils\n",
    "import cv2\n",
    "\n",
    "# 資料視覺化模組\n",
    "import matplotlib.pyplot as plt\n",
    "import matplotlib.cm as cm\n",
    "\n",
    "# 不要顯示惱人的 warning 訊息\n",
    "import warnings\n",
    "warnings.filterwarnings('ignore')\n",
    "\n",
    "# 在 Notebook 裡可即時繪圖\n",
    "%matplotlib inline  \n",
    "\n",
    "plt.rcParams['figure.figsize'] = [15, 7]\n",
    "plt.rcParams.update({'font.size':13})"
   ]
  },
  {
   "cell_type": "code",
   "execution_count": 3,
   "metadata": {},
   "outputs": [],
   "source": [
    "# load the tic-tac-toe image and convert it to grayscale\n",
    "image = cv2.imread(\"../input/tictactoe.png\")\n",
    "gray = cv2.cvtColor(image, cv2.COLOR_BGR2GRAY)\n",
    "\n",
    "# find all contours on the tic-tac-toe board\n",
    "cnts = cv2.findContours(gray.copy(), cv2.RETR_EXTERNAL, cv2.CHAIN_APPROX_SIMPLE)\n",
    "cnts = imutils.grab_contours(cnts)"
   ]
  },
  {
   "cell_type": "markdown",
   "metadata": {},
   "source": [
    "## solidity = contour area / convex hull area\n",
    "\n",
    "> convex hull : 凹凸狀的物體\n",
    ">\n",
    "> 如何得知 solidity 0.9 , 0.5 ?  \n",
    "> Ans: 只要計算出每個 contour 的 solidity 值就可以看出箇中的邏輯。"
   ]
  },
  {
   "cell_type": "code",
   "execution_count": 6,
   "metadata": {},
   "outputs": [
    {
     "name": "stdout",
     "output_type": "stream",
     "text": [
      "O (Contour #1) -- solidity=0.98\n",
      "X (Contour #2) -- solidity=0.60\n",
      "O (Contour #3) -- solidity=0.98\n",
      "X (Contour #4) -- solidity=0.60\n",
      "X (Contour #5) -- solidity=0.60\n",
      "O (Contour #6) -- solidity=0.98\n",
      "? (Contour #7) -- solidity=0.28\n"
     ]
    },
    {
     "data": {
      "image/png": "[encoded data removed]",
      "text/plain": [
       "<Figure size 432x288 with 1 Axes>"
      ]
     },
     "metadata": {
      "needs_background": "light"
     },
     "output_type": "display_data"
    }
   ],
   "source": [
    "# loop over the contours\n",
    "for (i, c) in enumerate(cnts):\n",
    "    # compute the area of the contour along with the bounding box\n",
    "    # to compute the aspect ratio\n",
    "    area = cv2.contourArea(c)\n",
    "    (x, y, w, h) = cv2.boundingRect(c)\n",
    "\n",
    "    # compute the convex hull of the contour, then use the area of the\n",
    "    # original contour and the area of the convex hull to compute the\n",
    "    # solidity\n",
    "    hull = cv2.convexHull(c)\n",
    "    hullArea = cv2.contourArea(hull)\n",
    "    solidity = area / float(hullArea)\n",
    "\n",
    "    # initialize the character text\n",
    "    char = \"?\"\n",
    "\n",
    "    # if the solidity is high, then we are examining an `O`\n",
    "    if solidity > 0.9:\n",
    "        char = \"O\"\n",
    "\n",
    "    # otherwise, if the solidity it still reasonable high, we\n",
    "    # are examining an `X`\n",
    "    elif solidity > 0.5:\n",
    "        char = \"X\"\n",
    "\n",
    "    # if the character is not unknown, draw it\n",
    "    if char != \"?\":\n",
    "        cv2.drawContours(image, [c], -1, (0, 255, 0), 3)\n",
    "        cv2.putText(image, char, (x, y - 10), cv2.FONT_HERSHEY_SIMPLEX, 1.25,\n",
    "            (0, 255, 0), 4)\n",
    "\n",
    "    # show the contour properties\n",
    "    print(\"{} (Contour #{}) -- solidity={:.2f}\".format(char, i + 1, solidity))\n",
    "\n",
    "# show the output image\n",
    "plt.title(\"Output\")\n",
    "plt.imshow(cv2.cvtColor(image, cv2.COLOR_BGR2RGB))\n",
    "plt.show()"
   ]
  },
  {
   "cell_type": "code",
   "execution_count": null,
   "metadata": {},
   "outputs": [],
   "source": []
  }
 ],
 "metadata": {
  "kernelspec": {
   "display_name": "Python 3",
   "language": "python",
   "name": "python3"
  },
  "language_info": {
   "codemirror_mode": {
    "name": "ipython",
    "version": 3
   },
   "file_extension": ".py",
   "mimetype": "text/x-python",
   "name": "python",
   "nbconvert_exporter": "python",
   "pygments_lexer": "ipython3",
   "version": "3.6.6"
  }
 },
 "nbformat": 4,
 "nbformat_minor": 2
}
